{
  "cells": [
    {
      "cell_type": "markdown",
      "metadata": {
        "id": "SXvsZsi1FRMY"
      },
      "source": [
        "demonstrstion of method listed in report \n"
      ]
    },
    {
      "cell_type": "markdown",
      "metadata": {
        "id": "mE9uOwnOakRu"
      },
      "source": [
        "text summarization  algorithm -1\n",
        "\n",
        "In this  algorithm ,we are going to use frequency method with hlep of spacy library \n",
        "\n",
        "so , firstly we will install required library."
      ]
    },
    {
      "cell_type": "code",
      "execution_count": null,
      "metadata": {
        "colab": {
          "base_uri": "https://localhost:8080/"
        },
        "id": "SSD6y2mpbD4e",
        "outputId": "06553ebf-7476-4a14-9717-224cdce53c56"
      },
      "outputs": [
        {
          "name": "stdout",
          "output_type": "stream",
          "text": [
            "Looking in indexes: https://pypi.org/simple, https://us-python.pkg.dev/colab-wheels/public/simple/\n",
            "Requirement already satisfied: spacy in /usr/local/lib/python3.8/dist-packages (3.4.3)\n",
            "Collecting spacy\n",
            "  Downloading spacy-3.4.4-cp38-cp38-manylinux_2_17_x86_64.manylinux2014_x86_64.whl (6.6 MB)\n",
            "\u001b[K     |████████████████████████████████| 6.6 MB 4.0 MB/s \n",
            "\u001b[?25hRequirement already satisfied: srsly<3.0.0,>=2.4.3 in /usr/local/lib/python3.8/dist-packages (from spacy) (2.4.5)\n",
            "Requirement already satisfied: wasabi<1.1.0,>=0.9.1 in /usr/local/lib/python3.8/dist-packages (from spacy) (0.10.1)\n",
            "Requirement already satisfied: setuptools in /usr/local/lib/python3.8/dist-packages (from spacy) (57.4.0)\n",
            "Requirement already satisfied: langcodes<4.0.0,>=3.2.0 in /usr/local/lib/python3.8/dist-packages (from spacy) (3.3.0)\n",
            "Requirement already satisfied: requests<3.0.0,>=2.13.0 in /usr/local/lib/python3.8/dist-packages (from spacy) (2.23.0)\n",
            "Requirement already satisfied: thinc<8.2.0,>=8.1.0 in /usr/local/lib/python3.8/dist-packages (from spacy) (8.1.5)\n",
            "Requirement already satisfied: spacy-legacy<3.1.0,>=3.0.10 in /usr/local/lib/python3.8/dist-packages (from spacy) (3.0.10)\n",
            "Requirement already satisfied: numpy>=1.15.0 in /usr/local/lib/python3.8/dist-packages (from spacy) (1.21.6)\n",
            "Requirement already satisfied: jinja2 in /usr/local/lib/python3.8/dist-packages (from spacy) (2.11.3)\n",
            "Requirement already satisfied: tqdm<5.0.0,>=4.38.0 in /usr/local/lib/python3.8/dist-packages (from spacy) (4.64.1)\n",
            "Requirement already satisfied: preshed<3.1.0,>=3.0.2 in /usr/local/lib/python3.8/dist-packages (from spacy) (3.0.8)\n",
            "Requirement already satisfied: smart-open<7.0.0,>=5.2.1 in /usr/local/lib/python3.8/dist-packages (from spacy) (5.2.1)\n",
            "Requirement already satisfied: catalogue<2.1.0,>=2.0.6 in /usr/local/lib/python3.8/dist-packages (from spacy) (2.0.8)\n",
            "Requirement already satisfied: murmurhash<1.1.0,>=0.28.0 in /usr/local/lib/python3.8/dist-packages (from spacy) (1.0.9)\n",
            "Requirement already satisfied: typer<0.8.0,>=0.3.0 in /usr/local/lib/python3.8/dist-packages (from spacy) (0.7.0)\n",
            "Requirement already satisfied: pydantic!=1.8,!=1.8.1,<1.11.0,>=1.7.4 in /usr/local/lib/python3.8/dist-packages (from spacy) (1.10.2)\n",
            "Requirement already satisfied: cymem<2.1.0,>=2.0.2 in /usr/local/lib/python3.8/dist-packages (from spacy) (2.0.7)\n",
            "Requirement already satisfied: pathy>=0.3.5 in /usr/local/lib/python3.8/dist-packages (from spacy) (0.10.0)\n",
            "Requirement already satisfied: packaging>=20.0 in /usr/local/lib/python3.8/dist-packages (from spacy) (21.3)\n",
            "Requirement already satisfied: spacy-loggers<2.0.0,>=1.0.0 in /usr/local/lib/python3.8/dist-packages (from spacy) (1.0.3)\n",
            "Requirement already satisfied: pyparsing!=3.0.5,>=2.0.2 in /usr/local/lib/python3.8/dist-packages (from packaging>=20.0->spacy) (3.0.9)\n",
            "Requirement already satisfied: typing-extensions>=4.1.0 in /usr/local/lib/python3.8/dist-packages (from pydantic!=1.8,!=1.8.1,<1.11.0,>=1.7.4->spacy) (4.4.0)\n",
            "Requirement already satisfied: certifi>=2017.4.17 in /usr/local/lib/python3.8/dist-packages (from requests<3.0.0,>=2.13.0->spacy) (2022.9.24)\n",
            "Requirement already satisfied: chardet<4,>=3.0.2 in /usr/local/lib/python3.8/dist-packages (from requests<3.0.0,>=2.13.0->spacy) (3.0.4)\n",
            "Requirement already satisfied: urllib3!=1.25.0,!=1.25.1,<1.26,>=1.21.1 in /usr/local/lib/python3.8/dist-packages (from requests<3.0.0,>=2.13.0->spacy) (1.24.3)\n",
            "Requirement already satisfied: idna<3,>=2.5 in /usr/local/lib/python3.8/dist-packages (from requests<3.0.0,>=2.13.0->spacy) (2.10)\n",
            "Requirement already satisfied: confection<1.0.0,>=0.0.1 in /usr/local/lib/python3.8/dist-packages (from thinc<8.2.0,>=8.1.0->spacy) (0.0.3)\n",
            "Requirement already satisfied: blis<0.8.0,>=0.7.8 in /usr/local/lib/python3.8/dist-packages (from thinc<8.2.0,>=8.1.0->spacy) (0.7.9)\n",
            "Requirement already satisfied: click<9.0.0,>=7.1.1 in /usr/local/lib/python3.8/dist-packages (from typer<0.8.0,>=0.3.0->spacy) (7.1.2)\n",
            "Requirement already satisfied: MarkupSafe>=0.23 in /usr/local/lib/python3.8/dist-packages (from jinja2->spacy) (2.0.1)\n",
            "Installing collected packages: spacy\n",
            "  Attempting uninstall: spacy\n",
            "    Found existing installation: spacy 3.4.3\n",
            "    Uninstalling spacy-3.4.3:\n",
            "      Successfully uninstalled spacy-3.4.3\n",
            "Successfully installed spacy-3.4.4\n"
          ]
        }
      ],
      "source": [
        "pip install -U spacy"
      ]
    },
    {
      "cell_type": "code",
      "execution_count": null,
      "metadata": {
        "colab": {
          "base_uri": "https://localhost:8080/"
        },
        "id": "jPodCIMXbfwK",
        "outputId": "9861bd93-a978-4fff-cdfa-68e5263b6b21"
      },
      "outputs": [
        {
          "name": "stderr",
          "output_type": "stream",
          "text": [
            "/usr/local/lib/python3.8/dist-packages/torch/cuda/__init__.py:497: UserWarning: Can't initialize NVML\n",
            "  warnings.warn(\"Can't initialize NVML\")\n"
          ]
        }
      ],
      "source": [
        "import spacy"
      ]
    },
    {
      "cell_type": "code",
      "execution_count": null,
      "metadata": {
        "colab": {
          "base_uri": "https://localhost:8080/"
        },
        "id": "V5eOXdu0bsOe",
        "outputId": "a9e3be18-5958-4352-b162-402f52c801b5"
      },
      "outputs": [
        {
          "name": "stdout",
          "output_type": "stream",
          "text": [
            "/usr/local/lib/python3.8/dist-packages/torch/cuda/__init__.py:497: UserWarning: Can't initialize NVML\n",
            "  warnings.warn(\"Can't initialize NVML\")\n",
            "2022-12-16 10:15:55.748373: E tensorflow/stream_executor/cuda/cuda_driver.cc:271] failed call to cuInit: CUDA_ERROR_NO_DEVICE: no CUDA-capable device is detected\n",
            "Looking in indexes: https://pypi.org/simple, https://us-python.pkg.dev/colab-wheels/public/simple/\n",
            "Collecting en-core-web-sm==3.4.1\n",
            "  Downloading https://github.com/explosion/spacy-models/releases/download/en_core_web_sm-3.4.1/en_core_web_sm-3.4.1-py3-none-any.whl (12.8 MB)\n",
            "\u001b[K     |████████████████████████████████| 12.8 MB 3.6 MB/s \n",
            "\u001b[?25hRequirement already satisfied: spacy<3.5.0,>=3.4.0 in /usr/local/lib/python3.8/dist-packages (from en-core-web-sm==3.4.1) (3.4.4)\n",
            "Requirement already satisfied: cymem<2.1.0,>=2.0.2 in /usr/local/lib/python3.8/dist-packages (from spacy<3.5.0,>=3.4.0->en-core-web-sm==3.4.1) (2.0.7)\n",
            "Requirement already satisfied: setuptools in /usr/local/lib/python3.8/dist-packages (from spacy<3.5.0,>=3.4.0->en-core-web-sm==3.4.1) (57.4.0)\n",
            "Requirement already satisfied: spacy-loggers<2.0.0,>=1.0.0 in /usr/local/lib/python3.8/dist-packages (from spacy<3.5.0,>=3.4.0->en-core-web-sm==3.4.1) (1.0.3)\n",
            "Requirement already satisfied: wasabi<1.1.0,>=0.9.1 in /usr/local/lib/python3.8/dist-packages (from spacy<3.5.0,>=3.4.0->en-core-web-sm==3.4.1) (0.10.1)\n",
            "Requirement already satisfied: pathy>=0.3.5 in /usr/local/lib/python3.8/dist-packages (from spacy<3.5.0,>=3.4.0->en-core-web-sm==3.4.1) (0.10.0)\n",
            "Requirement already satisfied: smart-open<7.0.0,>=5.2.1 in /usr/local/lib/python3.8/dist-packages (from spacy<3.5.0,>=3.4.0->en-core-web-sm==3.4.1) (5.2.1)\n",
            "Requirement already satisfied: preshed<3.1.0,>=3.0.2 in /usr/local/lib/python3.8/dist-packages (from spacy<3.5.0,>=3.4.0->en-core-web-sm==3.4.1) (3.0.8)\n",
            "Requirement already satisfied: spacy-legacy<3.1.0,>=3.0.10 in /usr/local/lib/python3.8/dist-packages (from spacy<3.5.0,>=3.4.0->en-core-web-sm==3.4.1) (3.0.10)\n",
            "Requirement already satisfied: thinc<8.2.0,>=8.1.0 in /usr/local/lib/python3.8/dist-packages (from spacy<3.5.0,>=3.4.0->en-core-web-sm==3.4.1) (8.1.5)\n",
            "Requirement already satisfied: tqdm<5.0.0,>=4.38.0 in /usr/local/lib/python3.8/dist-packages (from spacy<3.5.0,>=3.4.0->en-core-web-sm==3.4.1) (4.64.1)\n",
            "Requirement already satisfied: srsly<3.0.0,>=2.4.3 in /usr/local/lib/python3.8/dist-packages (from spacy<3.5.0,>=3.4.0->en-core-web-sm==3.4.1) (2.4.5)\n",
            "Requirement already satisfied: typer<0.8.0,>=0.3.0 in /usr/local/lib/python3.8/dist-packages (from spacy<3.5.0,>=3.4.0->en-core-web-sm==3.4.1) (0.7.0)\n",
            "Requirement already satisfied: langcodes<4.0.0,>=3.2.0 in /usr/local/lib/python3.8/dist-packages (from spacy<3.5.0,>=3.4.0->en-core-web-sm==3.4.1) (3.3.0)\n",
            "Requirement already satisfied: murmurhash<1.1.0,>=0.28.0 in /usr/local/lib/python3.8/dist-packages (from spacy<3.5.0,>=3.4.0->en-core-web-sm==3.4.1) (1.0.9)\n",
            "Requirement already satisfied: catalogue<2.1.0,>=2.0.6 in /usr/local/lib/python3.8/dist-packages (from spacy<3.5.0,>=3.4.0->en-core-web-sm==3.4.1) (2.0.8)\n",
            "Requirement already satisfied: jinja2 in /usr/local/lib/python3.8/dist-packages (from spacy<3.5.0,>=3.4.0->en-core-web-sm==3.4.1) (2.11.3)\n",
            "Requirement already satisfied: numpy>=1.15.0 in /usr/local/lib/python3.8/dist-packages (from spacy<3.5.0,>=3.4.0->en-core-web-sm==3.4.1) (1.21.6)\n",
            "Requirement already satisfied: requests<3.0.0,>=2.13.0 in /usr/local/lib/python3.8/dist-packages (from spacy<3.5.0,>=3.4.0->en-core-web-sm==3.4.1) (2.23.0)\n",
            "Requirement already satisfied: pydantic!=1.8,!=1.8.1,<1.11.0,>=1.7.4 in /usr/local/lib/python3.8/dist-packages (from spacy<3.5.0,>=3.4.0->en-core-web-sm==3.4.1) (1.10.2)\n",
            "Requirement already satisfied: packaging>=20.0 in /usr/local/lib/python3.8/dist-packages (from spacy<3.5.0,>=3.4.0->en-core-web-sm==3.4.1) (21.3)\n",
            "Requirement already satisfied: pyparsing!=3.0.5,>=2.0.2 in /usr/local/lib/python3.8/dist-packages (from packaging>=20.0->spacy<3.5.0,>=3.4.0->en-core-web-sm==3.4.1) (3.0.9)\n",
            "Requirement already satisfied: typing-extensions>=4.1.0 in /usr/local/lib/python3.8/dist-packages (from pydantic!=1.8,!=1.8.1,<1.11.0,>=1.7.4->spacy<3.5.0,>=3.4.0->en-core-web-sm==3.4.1) (4.4.0)\n",
            "Requirement already satisfied: chardet<4,>=3.0.2 in /usr/local/lib/python3.8/dist-packages (from requests<3.0.0,>=2.13.0->spacy<3.5.0,>=3.4.0->en-core-web-sm==3.4.1) (3.0.4)\n",
            "Requirement already satisfied: urllib3!=1.25.0,!=1.25.1,<1.26,>=1.21.1 in /usr/local/lib/python3.8/dist-packages (from requests<3.0.0,>=2.13.0->spacy<3.5.0,>=3.4.0->en-core-web-sm==3.4.1) (1.24.3)\n",
            "Requirement already satisfied: idna<3,>=2.5 in /usr/local/lib/python3.8/dist-packages (from requests<3.0.0,>=2.13.0->spacy<3.5.0,>=3.4.0->en-core-web-sm==3.4.1) (2.10)\n",
            "Requirement already satisfied: certifi>=2017.4.17 in /usr/local/lib/python3.8/dist-packages (from requests<3.0.0,>=2.13.0->spacy<3.5.0,>=3.4.0->en-core-web-sm==3.4.1) (2022.9.24)\n",
            "Requirement already satisfied: blis<0.8.0,>=0.7.8 in /usr/local/lib/python3.8/dist-packages (from thinc<8.2.0,>=8.1.0->spacy<3.5.0,>=3.4.0->en-core-web-sm==3.4.1) (0.7.9)\n",
            "Requirement already satisfied: confection<1.0.0,>=0.0.1 in /usr/local/lib/python3.8/dist-packages (from thinc<8.2.0,>=8.1.0->spacy<3.5.0,>=3.4.0->en-core-web-sm==3.4.1) (0.0.3)\n",
            "Requirement already satisfied: click<9.0.0,>=7.1.1 in /usr/local/lib/python3.8/dist-packages (from typer<0.8.0,>=0.3.0->spacy<3.5.0,>=3.4.0->en-core-web-sm==3.4.1) (7.1.2)\n",
            "Requirement already satisfied: MarkupSafe>=0.23 in /usr/local/lib/python3.8/dist-packages (from jinja2->spacy<3.5.0,>=3.4.0->en-core-web-sm==3.4.1) (2.0.1)\n",
            "\u001b[38;5;2m✔ Download and installation successful\u001b[0m\n",
            "You can now load the package via spacy.load('en_core_web_sm')\n"
          ]
        }
      ],
      "source": [
        "!python -m spacy download en_core_web_sm"
      ]
    },
    {
      "cell_type": "code",
      "execution_count": null,
      "metadata": {
        "id": "5aq9K4Oxbyci"
      },
      "outputs": [],
      "source": [
        "import spacy"
      ]
    },
    {
      "cell_type": "markdown",
      "metadata": {
        "id": "XrN0r_u4b3SR"
      },
      "source": [
        "now we have installed the library .\n",
        " list of steps in  text summarization.\n",
        "  \n",
        "  step-1: take the  text file  as input .\n",
        "  step-2: text cleaning\n",
        "  step-3:sentence tokenization \n",
        "  step-4: Word tokenization\n",
        "  step-5: Word-frequency table \n",
        "  step-6: final summmarization  as output"
      ]
    },
    {
      "cell_type": "code",
      "execution_count": null,
      "metadata": {
        "colab": {
          "base_uri": "https://localhost:8080/"
        },
        "id": "tMttwUuZdDYg",
        "outputId": "7614d0a8-7a04-4fea-afeb-1c4dfbc2473b"
      },
      "outputs": [
        {
          "name": "stdout",
          "output_type": "stream",
          "text": [
            " Copy the text file  which you want to summarise  5G networks are cellular networks, in which the service area is divided into small geographical areas called cells. All 5G wireless devices in a cell communicate by radio waves with a cellular base station via fixed antennas, over frequency channels assigned by the base station. The base stations, termed nodes, are connected to switching centers in the telephone network and routers for Internet access by high-bandwidth optical fiber or wireless backhaul connections. As in other cellular networks, a mobile device moving from one cell to another is automatically handed off seamlessly. 5G is expected to support up to a million devices per square kilometer.  The industry consortium setting standards for 5G, the 3rd Generation Partnership Project (3GPP), defines \"5G\" as any system using 5G NR (5G New Radio) software - a definition that came into general use by late 2018.  Several network operators use millimeter waves called FR2 in 5G terminology, for additional capacity and higher throughputs. Millimeter waves have a shorter range than the lower frequency microwaves, therefore the cells are of a smaller size. Millimeter waves also have more trouble passing through building walls. Millimeter-wave antennas are smaller than the large antennas used in previous cellular networks. Some are only a few centimeters long.  The increased data rate is achieved partly by using additional higher-frequency radio waves in addition to the low- and medium-band frequencies used in previous cellular networks. For providing a wide range of services, 5G networks can operate in three frequency bands – : low, medium, and high.  5G can be implemented in low-band, mid-band or high-band millimeter-wave 24 GHz up to 54 GHz. Low-band 5G uses a similar frequency range to 4G cellphones, 600–900 MHz, giving download speeds a little higher than 4G: 30–250 megabits per second (Mbit/s).[5] Low-band cell towers have a range and coverage area similar to 4G towers. Mid-band 5G uses microwaves of 1.7–4.7 GHz, allowing speeds of 100–900 Mbit/s, with each cell tower providing service up to several kilometers in radius. This level of service is the most widely deployed, and was deployed in many metropolitan areas in 2020. Some regions are not implementing the low band, making Mid-band the minimum service level. High-band 5G uses frequencies of 24–47 GHz, near the bottom of the millimeter wave band, although higher frequencies may be used in the future. It often achieves download speeds in the gigabit-per-second (Gbit/s) range, comparable to cable internet. However, millimeter waves (mmWave or mmW) have a more limited range, requiring many small cells.[6] They can be impeded or blocked by materials in walls or windows.[7] Due to their higher cost, plans are to deploy these cells only in dense urban environments and areas where crowds of people congregate such as sports stadiums and convention centers. The above speeds are those achieved in actual tests in 2020, and speeds are expected to increase during rollout.[5] The spectrum ranging from 24.25–29.5 GHz has been the most licensed and deployed 5G mmWave spectrum range in the world.[citation needed]  Rollout of 5G technology has led to debate over its security and relationship with Chinese vendors. It has also been the subject of health concerns and misinformation, including discredited conspiracy theories linking it to the COVID-19 pandemic.\n"
          ]
        }
      ],
      "source": [
        "text=input(\" Copy the text file  which you want to summarise  \")"
      ]
    },
    {
      "cell_type": "markdown",
      "metadata": {
        "id": "T-JyceOtduLY"
      },
      "source": [
        "length of the text document "
      ]
    },
    {
      "cell_type": "code",
      "execution_count": null,
      "metadata": {
        "colab": {
          "base_uri": "https://localhost:8080/"
        },
        "id": "maBzW65sd00u",
        "outputId": "556bd645-fbbb-4508-f08a-33ecc3bf9b46"
      },
      "outputs": [
        {
          "data": {
            "text/plain": [
              "3408"
            ]
          },
          "execution_count": 22,
          "metadata": {},
          "output_type": "execute_result"
        }
      ],
      "source": [
        "len(text)"
      ]
    },
    {
      "cell_type": "markdown",
      "metadata": {
        "id": "3fV_5xAFd605"
      },
      "source": [
        "import the required library\n",
        "1. spacy.lang.en.stop_words for removing stop words \n",
        "2. punctuation  for removing punctuation form the doc"
      ]
    },
    {
      "cell_type": "code",
      "execution_count": null,
      "metadata": {
        "id": "OlJQTZoZfB_K"
      },
      "outputs": [],
      "source": [
        "import spacy"
      ]
    },
    {
      "cell_type": "code",
      "execution_count": null,
      "metadata": {
        "id": "_kggkb-nfHuU"
      },
      "outputs": [],
      "source": [
        "from spacy.lang.en.stop_words import STOP_WORDS"
      ]
    },
    {
      "cell_type": "code",
      "execution_count": null,
      "metadata": {
        "id": "OiEPWyfXfMWN"
      },
      "outputs": [],
      "source": [
        "from string import punctuation\n",
        "from collections import Counter\n",
        "from heapq import nlargest"
      ]
    },
    {
      "cell_type": "markdown",
      "metadata": {
        "id": "p5WDDD46ElMA"
      },
      "source": [
        " finding stopwords and punctuation3\n",
        " and listing them"
      ]
    },
    {
      "cell_type": "code",
      "execution_count": null,
      "metadata": {
        "id": "bkydhkaHRLbY"
      },
      "outputs": [],
      "source": [
        "stopwords=list(STOP_WORDS)\n",
        "punctuation=punctuation+ ' \\n'"
      ]
    },
    {
      "cell_type": "markdown",
      "metadata": {
        "id": "B_1grzcUEwMB"
      },
      "source": [
        "list of stopwords"
      ]
    },
    {
      "cell_type": "code",
      "execution_count": null,
      "metadata": {
        "colab": {
          "base_uri": "https://localhost:8080/"
        },
        "id": "BSlDGwViRcLI",
        "outputId": "07ecb8da-adbb-4120-de3d-b1ffd3da1916"
      },
      "outputs": [
        {
          "data": {
            "text/plain": [
              "['being',\n",
              " 'and',\n",
              " 'cannot',\n",
              " 'another',\n",
              " 'his',\n",
              " 'moreover',\n",
              " 'then',\n",
              " 'anyway',\n",
              " 'somehow',\n",
              " 'where',\n",
              " 'was',\n",
              " 'fifteen',\n",
              " 'does',\n",
              " 'eight',\n",
              " 'of',\n",
              " 'again',\n",
              " '‘ll',\n",
              " 'against',\n",
              " 'upon',\n",
              " 'i',\n",
              " '’re',\n",
              " 'hereafter',\n",
              " 'themselves',\n",
              " 'meanwhile',\n",
              " 'put',\n",
              " 'could',\n",
              " 'much',\n",
              " \"'re\",\n",
              " 'becoming',\n",
              " 'should',\n",
              " 'yourselves',\n",
              " 'per',\n",
              " 'used',\n",
              " 'regarding',\n",
              " '’m',\n",
              " 'third',\n",
              " 'one',\n",
              " 'thereby',\n",
              " 'if',\n",
              " 'thus',\n",
              " 'her',\n",
              " 'five',\n",
              " 'side',\n",
              " 'through',\n",
              " 'due',\n",
              " 'although',\n",
              " 'via',\n",
              " 'bottom',\n",
              " 'throughout',\n",
              " 'own',\n",
              " 'whole',\n",
              " 'nine',\n",
              " 'whose',\n",
              " 'onto',\n",
              " 'keep',\n",
              " 'none',\n",
              " 'were',\n",
              " 'first',\n",
              " 'himself',\n",
              " 'their',\n",
              " 'do',\n",
              " 'is',\n",
              " \"'d\",\n",
              " 'else',\n",
              " 'enough',\n",
              " 'few',\n",
              " 'somewhere',\n",
              " 'hers',\n",
              " 'what',\n",
              " 'both',\n",
              " 'its',\n",
              " 'ourselves',\n",
              " 'therein',\n",
              " 'go',\n",
              " 'no',\n",
              " 'whereby',\n",
              " 'forty',\n",
              " 'full',\n",
              " 'down',\n",
              " 'my',\n",
              " '’d',\n",
              " 'whereupon',\n",
              " 'next',\n",
              " 'each',\n",
              " 'something',\n",
              " 'above',\n",
              " 'show',\n",
              " '‘d',\n",
              " 'hereupon',\n",
              " 'give',\n",
              " 'sometime',\n",
              " 'latterly',\n",
              " 'below',\n",
              " 'me',\n",
              " 'did',\n",
              " 'at',\n",
              " 'beforehand',\n",
              " 'ten',\n",
              " 'toward',\n",
              " 'neither',\n",
              " 'fifty',\n",
              " 'others',\n",
              " 'perhaps',\n",
              " 'move',\n",
              " 'becomes',\n",
              " '’s',\n",
              " 'anyone',\n",
              " 'around',\n",
              " 'though',\n",
              " 'become',\n",
              " \"'m\",\n",
              " 'it',\n",
              " 'we',\n",
              " 'whatever',\n",
              " 'two',\n",
              " 'with',\n",
              " 'quite',\n",
              " 'really',\n",
              " 'back',\n",
              " 'besides',\n",
              " 'also',\n",
              " 'namely',\n",
              " 'most',\n",
              " 'rather',\n",
              " \"'s\",\n",
              " \"'ve\",\n",
              " 'whether',\n",
              " '‘s',\n",
              " 'out',\n",
              " 'when',\n",
              " 'part',\n",
              " 'too',\n",
              " 'because',\n",
              " 'by',\n",
              " 'since',\n",
              " 'have',\n",
              " 'she',\n",
              " 'mine',\n",
              " 'must',\n",
              " 'just',\n",
              " 'everyone',\n",
              " 'top',\n",
              " 'whom',\n",
              " 'to',\n",
              " 'hundred',\n",
              " 'only',\n",
              " 'some',\n",
              " 'various',\n",
              " 'empty',\n",
              " 'seeming',\n",
              " 'than',\n",
              " 'eleven',\n",
              " 'your',\n",
              " 'formerly',\n",
              " 'well',\n",
              " 'never',\n",
              " 'after',\n",
              " 'yours',\n",
              " 'been',\n",
              " 'up',\n",
              " 'someone',\n",
              " 'last',\n",
              " '‘re',\n",
              " 'herself',\n",
              " 'into',\n",
              " 'serious',\n",
              " 'made',\n",
              " 'done',\n",
              " 'hence',\n",
              " 'us',\n",
              " 'either',\n",
              " 'until',\n",
              " 'would',\n",
              " 'during',\n",
              " 'name',\n",
              " 'beyond',\n",
              " 'sixty',\n",
              " 'almost',\n",
              " 'this',\n",
              " 'least',\n",
              " 'such',\n",
              " 'they',\n",
              " 'more',\n",
              " 'say',\n",
              " 'other',\n",
              " 'seemed',\n",
              " 'already',\n",
              " 'as',\n",
              " 'whence',\n",
              " '’ve',\n",
              " 'along',\n",
              " 'became',\n",
              " 'indeed',\n",
              " 'three',\n",
              " 'same',\n",
              " 'n’t',\n",
              " 'using',\n",
              " 'any',\n",
              " 'noone',\n",
              " 'please',\n",
              " 'herein',\n",
              " 'except',\n",
              " 'together',\n",
              " 'front',\n",
              " 'myself',\n",
              " 'anywhere',\n",
              " 'once',\n",
              " 'off',\n",
              " 'why',\n",
              " '‘m',\n",
              " 'so',\n",
              " 'however',\n",
              " 'thereupon',\n",
              " 'here',\n",
              " 'will',\n",
              " 'doing',\n",
              " 'often',\n",
              " 'our',\n",
              " \"'ll\",\n",
              " 'over',\n",
              " 'alone',\n",
              " 'may',\n",
              " 'get',\n",
              " 'now',\n",
              " 'ours',\n",
              " 'an',\n",
              " 'wherein',\n",
              " 'still',\n",
              " 'those',\n",
              " 'yourself',\n",
              " 'the',\n",
              " '‘ve',\n",
              " 'which',\n",
              " 'everything',\n",
              " '’ll',\n",
              " 'who',\n",
              " 'even',\n",
              " 'otherwise',\n",
              " 'yet',\n",
              " 'him',\n",
              " 'hereby',\n",
              " 'anything',\n",
              " 'might',\n",
              " 'see',\n",
              " 'always',\n",
              " 'latter',\n",
              " 'take',\n",
              " 'whoever',\n",
              " 'or',\n",
              " 'amount',\n",
              " 'behind',\n",
              " 'beside',\n",
              " 'ever',\n",
              " 'across',\n",
              " 'call',\n",
              " 'in',\n",
              " 'itself',\n",
              " 'on',\n",
              " 'amongst',\n",
              " 'nor',\n",
              " 'thereafter',\n",
              " 'very',\n",
              " 'how',\n",
              " 'thence',\n",
              " 'twelve',\n",
              " 'everywhere',\n",
              " 'whenever',\n",
              " 're',\n",
              " 'not',\n",
              " 'from',\n",
              " 'am',\n",
              " 'wherever',\n",
              " 'twenty',\n",
              " 'n‘t',\n",
              " 'among',\n",
              " 'these',\n",
              " 'seem',\n",
              " 'afterwards',\n",
              " 'nevertheless',\n",
              " 'thru',\n",
              " 'several',\n",
              " 'all',\n",
              " 'unless',\n",
              " 'for',\n",
              " 'you',\n",
              " 'a',\n",
              " 'without',\n",
              " 'ca',\n",
              " 'nothing',\n",
              " 'whereas',\n",
              " 'within',\n",
              " 'he',\n",
              " \"n't\",\n",
              " 'whereafter',\n",
              " 'mostly',\n",
              " 'before',\n",
              " 'six',\n",
              " 'many',\n",
              " 'be',\n",
              " 'less',\n",
              " 'them',\n",
              " 'further',\n",
              " 'four',\n",
              " 'about',\n",
              " 'while',\n",
              " 'between',\n",
              " 'sometimes',\n",
              " 'elsewhere',\n",
              " 'has',\n",
              " 'under',\n",
              " 'make',\n",
              " 'seems',\n",
              " 'therefore',\n",
              " 'nowhere',\n",
              " 'whither',\n",
              " 'towards',\n",
              " 'but',\n",
              " 'had',\n",
              " 'every',\n",
              " 'there',\n",
              " 'anyhow',\n",
              " 'that',\n",
              " 'can',\n",
              " 'former',\n",
              " 'are',\n",
              " 'nobody']"
            ]
          },
          "execution_count": 28,
          "metadata": {},
          "output_type": "execute_result"
        }
      ],
      "source": [
        "stopwords"
      ]
    },
    {
      "cell_type": "markdown",
      "metadata": {
        "id": "UVoYzzB6E16y"
      },
      "source": [
        "length of stopwords"
      ]
    },
    {
      "cell_type": "code",
      "execution_count": null,
      "metadata": {
        "colab": {
          "base_uri": "https://localhost:8080/"
        },
        "id": "avOpwbmTRhVj",
        "outputId": "14d93864-5317-49e9-e287-cd3a1d975a3f"
      },
      "outputs": [
        {
          "data": {
            "text/plain": [
              "326"
            ]
          },
          "execution_count": 29,
          "metadata": {},
          "output_type": "execute_result"
        }
      ],
      "source": [
        "len(stopwords)"
      ]
    },
    {
      "cell_type": "code",
      "execution_count": null,
      "metadata": {
        "colab": {
          "base_uri": "https://localhost:8080/",
          "height": 36
        },
        "id": "DhPgevscZ6Ni",
        "outputId": "57c02e72-de59-4694-cc88-48ba2c5c36a5"
      },
      "outputs": [
        {
          "data": {
            "application/vnd.google.colaboratory.intrinsic+json": {
              "type": "string"
            },
            "text/plain": [
              "'!\"#$%&\\'()*+,-./:;<=>?@[\\\\]^_`{|}~ \\n'"
            ]
          },
          "execution_count": 30,
          "metadata": {},
          "output_type": "execute_result"
        }
      ],
      "source": [
        "punctuation"
      ]
    },
    {
      "cell_type": "markdown",
      "metadata": {
        "id": "TwllG-3pE77K"
      },
      "source": [
        "assigning web summmarizationn model to nlp "
      ]
    },
    {
      "cell_type": "code",
      "execution_count": null,
      "metadata": {
        "id": "b7JK01pMRlAm"
      },
      "outputs": [],
      "source": [
        "nlp=spacy.load('en_core_web_sm')"
      ]
    },
    {
      "cell_type": "markdown",
      "metadata": {
        "id": "N_ew2pb9FFZE"
      },
      "source": []
    },
    {
      "cell_type": "code",
      "execution_count": null,
      "metadata": {
        "id": "M5hcCN2ZR3Zj"
      },
      "outputs": [],
      "source": [
        "doc=nlp(text)\n"
      ]
    },
    {
      "cell_type": "markdown",
      "metadata": {
        "id": "nloPv7Z5FOT5"
      },
      "source": [
        "listing tokens (individual word) from the doc file"
      ]
    },
    {
      "cell_type": "code",
      "execution_count": null,
      "metadata": {
        "id": "DhOs2oWJR-Vh"
      },
      "outputs": [],
      "source": [
        "tokens=[token.text for token in doc]"
      ]
    },
    {
      "cell_type": "markdown",
      "metadata": {
        "id": "ujo-MbucFcjD"
      },
      "source": [
        "printing tokens "
      ]
    },
    {
      "cell_type": "code",
      "execution_count": null,
      "metadata": {
        "colab": {
          "base_uri": "https://localhost:8080/"
        },
        "id": "tt90v924SHnQ",
        "outputId": "4858434e-4dc7-4ec0-d25f-bcf4dfe73fa1"
      },
      "outputs": [
        {
          "data": {
            "text/plain": [
              "['5',\n",
              " 'G',\n",
              " 'networks',\n",
              " 'are',\n",
              " 'cellular',\n",
              " 'networks',\n",
              " ',',\n",
              " 'in',\n",
              " 'which',\n",
              " 'the',\n",
              " 'service',\n",
              " 'area',\n",
              " 'is',\n",
              " 'divided',\n",
              " 'into',\n",
              " 'small',\n",
              " 'geographical',\n",
              " 'areas',\n",
              " 'called',\n",
              " 'cells',\n",
              " '.',\n",
              " 'All',\n",
              " '5',\n",
              " 'G',\n",
              " 'wireless',\n",
              " 'devices',\n",
              " 'in',\n",
              " 'a',\n",
              " 'cell',\n",
              " 'communicate',\n",
              " 'by',\n",
              " 'radio',\n",
              " 'waves',\n",
              " 'with',\n",
              " 'a',\n",
              " 'cellular',\n",
              " 'base',\n",
              " 'station',\n",
              " 'via',\n",
              " 'fixed',\n",
              " 'antennas',\n",
              " ',',\n",
              " 'over',\n",
              " 'frequency',\n",
              " 'channels',\n",
              " 'assigned',\n",
              " 'by',\n",
              " 'the',\n",
              " 'base',\n",
              " 'station',\n",
              " '.',\n",
              " 'The',\n",
              " 'base',\n",
              " 'stations',\n",
              " ',',\n",
              " 'termed',\n",
              " 'nodes',\n",
              " ',',\n",
              " 'are',\n",
              " 'connected',\n",
              " 'to',\n",
              " 'switching',\n",
              " 'centers',\n",
              " 'in',\n",
              " 'the',\n",
              " 'telephone',\n",
              " 'network',\n",
              " 'and',\n",
              " 'routers',\n",
              " 'for',\n",
              " 'Internet',\n",
              " 'access',\n",
              " 'by',\n",
              " 'high',\n",
              " '-',\n",
              " 'bandwidth',\n",
              " 'optical',\n",
              " 'fiber',\n",
              " 'or',\n",
              " 'wireless',\n",
              " 'backhaul',\n",
              " 'connections',\n",
              " '.',\n",
              " 'As',\n",
              " 'in',\n",
              " 'other',\n",
              " 'cellular',\n",
              " 'networks',\n",
              " ',',\n",
              " 'a',\n",
              " 'mobile',\n",
              " 'device',\n",
              " 'moving',\n",
              " 'from',\n",
              " 'one',\n",
              " 'cell',\n",
              " 'to',\n",
              " 'another',\n",
              " 'is',\n",
              " 'automatically',\n",
              " 'handed',\n",
              " 'off',\n",
              " 'seamlessly',\n",
              " '.',\n",
              " '5',\n",
              " 'G',\n",
              " 'is',\n",
              " 'expected',\n",
              " 'to',\n",
              " 'support',\n",
              " 'up',\n",
              " 'to',\n",
              " 'a',\n",
              " 'million',\n",
              " 'devices',\n",
              " 'per',\n",
              " 'square',\n",
              " 'kilometer',\n",
              " '.',\n",
              " ' ',\n",
              " 'The',\n",
              " 'industry',\n",
              " 'consortium',\n",
              " 'setting',\n",
              " 'standards',\n",
              " 'for',\n",
              " '5',\n",
              " 'G',\n",
              " ',',\n",
              " 'the',\n",
              " '3rd',\n",
              " 'Generation',\n",
              " 'Partnership',\n",
              " 'Project',\n",
              " '(',\n",
              " '3GPP',\n",
              " ')',\n",
              " ',',\n",
              " 'defines',\n",
              " '\"',\n",
              " '5',\n",
              " 'G',\n",
              " '\"',\n",
              " 'as',\n",
              " 'any',\n",
              " 'system',\n",
              " 'using',\n",
              " '5',\n",
              " 'G',\n",
              " 'NR',\n",
              " '(',\n",
              " '5',\n",
              " 'G',\n",
              " 'New',\n",
              " 'Radio',\n",
              " ')',\n",
              " 'software',\n",
              " '-',\n",
              " 'a',\n",
              " 'definition',\n",
              " 'that',\n",
              " 'came',\n",
              " 'into',\n",
              " 'general',\n",
              " 'use',\n",
              " 'by',\n",
              " 'late',\n",
              " '2018',\n",
              " '.',\n",
              " ' ',\n",
              " 'Several',\n",
              " 'network',\n",
              " 'operators',\n",
              " 'use',\n",
              " 'millimeter',\n",
              " 'waves',\n",
              " 'called',\n",
              " 'FR2',\n",
              " 'in',\n",
              " '5',\n",
              " 'G',\n",
              " 'terminology',\n",
              " ',',\n",
              " 'for',\n",
              " 'additional',\n",
              " 'capacity',\n",
              " 'and',\n",
              " 'higher',\n",
              " 'throughputs',\n",
              " '.',\n",
              " 'Millimeter',\n",
              " 'waves',\n",
              " 'have',\n",
              " 'a',\n",
              " 'shorter',\n",
              " 'range',\n",
              " 'than',\n",
              " 'the',\n",
              " 'lower',\n",
              " 'frequency',\n",
              " 'microwaves',\n",
              " ',',\n",
              " 'therefore',\n",
              " 'the',\n",
              " 'cells',\n",
              " 'are',\n",
              " 'of',\n",
              " 'a',\n",
              " 'smaller',\n",
              " 'size',\n",
              " '.',\n",
              " 'Millimeter',\n",
              " 'waves',\n",
              " 'also',\n",
              " 'have',\n",
              " 'more',\n",
              " 'trouble',\n",
              " 'passing',\n",
              " 'through',\n",
              " 'building',\n",
              " 'walls',\n",
              " '.',\n",
              " 'Millimeter',\n",
              " '-',\n",
              " 'wave',\n",
              " 'antennas',\n",
              " 'are',\n",
              " 'smaller',\n",
              " 'than',\n",
              " 'the',\n",
              " 'large',\n",
              " 'antennas',\n",
              " 'used',\n",
              " 'in',\n",
              " 'previous',\n",
              " 'cellular',\n",
              " 'networks',\n",
              " '.',\n",
              " 'Some',\n",
              " 'are',\n",
              " 'only',\n",
              " 'a',\n",
              " 'few',\n",
              " 'centimeters',\n",
              " 'long',\n",
              " '.',\n",
              " ' ',\n",
              " 'The',\n",
              " 'increased',\n",
              " 'data',\n",
              " 'rate',\n",
              " 'is',\n",
              " 'achieved',\n",
              " 'partly',\n",
              " 'by',\n",
              " 'using',\n",
              " 'additional',\n",
              " 'higher',\n",
              " '-',\n",
              " 'frequency',\n",
              " 'radio',\n",
              " 'waves',\n",
              " 'in',\n",
              " 'addition',\n",
              " 'to',\n",
              " 'the',\n",
              " 'low-',\n",
              " 'and',\n",
              " 'medium',\n",
              " '-',\n",
              " 'band',\n",
              " 'frequencies',\n",
              " 'used',\n",
              " 'in',\n",
              " 'previous',\n",
              " 'cellular',\n",
              " 'networks',\n",
              " '.',\n",
              " 'For',\n",
              " 'providing',\n",
              " 'a',\n",
              " 'wide',\n",
              " 'range',\n",
              " 'of',\n",
              " 'services',\n",
              " ',',\n",
              " '5',\n",
              " 'G',\n",
              " 'networks',\n",
              " 'can',\n",
              " 'operate',\n",
              " 'in',\n",
              " 'three',\n",
              " 'frequency',\n",
              " 'bands',\n",
              " '–',\n",
              " ':',\n",
              " 'low',\n",
              " ',',\n",
              " 'medium',\n",
              " ',',\n",
              " 'and',\n",
              " 'high',\n",
              " '.',\n",
              " ' ',\n",
              " '5',\n",
              " 'G',\n",
              " 'can',\n",
              " 'be',\n",
              " 'implemented',\n",
              " 'in',\n",
              " 'low',\n",
              " '-',\n",
              " 'band',\n",
              " ',',\n",
              " 'mid',\n",
              " '-',\n",
              " 'band',\n",
              " 'or',\n",
              " 'high',\n",
              " '-',\n",
              " 'band',\n",
              " 'millimeter',\n",
              " '-',\n",
              " 'wave',\n",
              " '24',\n",
              " 'GHz',\n",
              " 'up',\n",
              " 'to',\n",
              " '54',\n",
              " 'GHz',\n",
              " '.',\n",
              " 'Low',\n",
              " '-',\n",
              " 'band',\n",
              " '5',\n",
              " 'G',\n",
              " 'uses',\n",
              " 'a',\n",
              " 'similar',\n",
              " 'frequency',\n",
              " 'range',\n",
              " 'to',\n",
              " '4',\n",
              " 'G',\n",
              " 'cellphones',\n",
              " ',',\n",
              " '600–900',\n",
              " 'MHz',\n",
              " ',',\n",
              " 'giving',\n",
              " 'download',\n",
              " 'speeds',\n",
              " 'a',\n",
              " 'little',\n",
              " 'higher',\n",
              " 'than',\n",
              " '4',\n",
              " 'G',\n",
              " ':',\n",
              " '30–250',\n",
              " 'megabits',\n",
              " 'per',\n",
              " 'second',\n",
              " '(',\n",
              " 'Mbit',\n",
              " '/',\n",
              " 's).[5',\n",
              " ']',\n",
              " 'Low',\n",
              " '-',\n",
              " 'band',\n",
              " 'cell',\n",
              " 'towers',\n",
              " 'have',\n",
              " 'a',\n",
              " 'range',\n",
              " 'and',\n",
              " 'coverage',\n",
              " 'area',\n",
              " 'similar',\n",
              " 'to',\n",
              " '4',\n",
              " 'G',\n",
              " 'towers',\n",
              " '.',\n",
              " 'Mid',\n",
              " '-',\n",
              " 'band',\n",
              " '5',\n",
              " 'G',\n",
              " 'uses',\n",
              " 'microwaves',\n",
              " 'of',\n",
              " '1.7–4.7',\n",
              " 'GHz',\n",
              " ',',\n",
              " 'allowing',\n",
              " 'speeds',\n",
              " 'of',\n",
              " '100–900',\n",
              " 'Mbit',\n",
              " '/',\n",
              " 's',\n",
              " ',',\n",
              " 'with',\n",
              " 'each',\n",
              " 'cell',\n",
              " 'tower',\n",
              " 'providing',\n",
              " 'service',\n",
              " 'up',\n",
              " 'to',\n",
              " 'several',\n",
              " 'kilometers',\n",
              " 'in',\n",
              " 'radius',\n",
              " '.',\n",
              " 'This',\n",
              " 'level',\n",
              " 'of',\n",
              " 'service',\n",
              " 'is',\n",
              " 'the',\n",
              " 'most',\n",
              " 'widely',\n",
              " 'deployed',\n",
              " ',',\n",
              " 'and',\n",
              " 'was',\n",
              " 'deployed',\n",
              " 'in',\n",
              " 'many',\n",
              " 'metropolitan',\n",
              " 'areas',\n",
              " 'in',\n",
              " '2020',\n",
              " '.',\n",
              " 'Some',\n",
              " 'regions',\n",
              " 'are',\n",
              " 'not',\n",
              " 'implementing',\n",
              " 'the',\n",
              " 'low',\n",
              " 'band',\n",
              " ',',\n",
              " 'making',\n",
              " 'Mid',\n",
              " '-',\n",
              " 'band',\n",
              " 'the',\n",
              " 'minimum',\n",
              " 'service',\n",
              " 'level',\n",
              " '.',\n",
              " 'High',\n",
              " '-',\n",
              " 'band',\n",
              " '5',\n",
              " 'G',\n",
              " 'uses',\n",
              " 'frequencies',\n",
              " 'of',\n",
              " '24–47',\n",
              " 'GHz',\n",
              " ',',\n",
              " 'near',\n",
              " 'the',\n",
              " 'bottom',\n",
              " 'of',\n",
              " 'the',\n",
              " 'millimeter',\n",
              " 'wave',\n",
              " 'band',\n",
              " ',',\n",
              " 'although',\n",
              " 'higher',\n",
              " 'frequencies',\n",
              " 'may',\n",
              " 'be',\n",
              " 'used',\n",
              " 'in',\n",
              " 'the',\n",
              " 'future',\n",
              " '.',\n",
              " 'It',\n",
              " 'often',\n",
              " 'achieves',\n",
              " 'download',\n",
              " 'speeds',\n",
              " 'in',\n",
              " 'the',\n",
              " 'gigabit',\n",
              " '-',\n",
              " 'per',\n",
              " '-',\n",
              " 'second',\n",
              " '(',\n",
              " 'Gbit',\n",
              " '/',\n",
              " 's',\n",
              " ')',\n",
              " 'range',\n",
              " ',',\n",
              " 'comparable',\n",
              " 'to',\n",
              " 'cable',\n",
              " 'internet',\n",
              " '.',\n",
              " 'However',\n",
              " ',',\n",
              " 'millimeter',\n",
              " 'waves',\n",
              " '(',\n",
              " 'mmWave',\n",
              " 'or',\n",
              " 'mmW',\n",
              " ')',\n",
              " 'have',\n",
              " 'a',\n",
              " 'more',\n",
              " 'limited',\n",
              " 'range',\n",
              " ',',\n",
              " 'requiring',\n",
              " 'many',\n",
              " 'small',\n",
              " 'cells.[6',\n",
              " ']',\n",
              " 'They',\n",
              " 'can',\n",
              " 'be',\n",
              " 'impeded',\n",
              " 'or',\n",
              " 'blocked',\n",
              " 'by',\n",
              " 'materials',\n",
              " 'in',\n",
              " 'walls',\n",
              " 'or',\n",
              " 'windows.[7',\n",
              " ']',\n",
              " 'Due',\n",
              " 'to',\n",
              " 'their',\n",
              " 'higher',\n",
              " 'cost',\n",
              " ',',\n",
              " 'plans',\n",
              " 'are',\n",
              " 'to',\n",
              " 'deploy',\n",
              " 'these',\n",
              " 'cells',\n",
              " 'only',\n",
              " 'in',\n",
              " 'dense',\n",
              " 'urban',\n",
              " 'environments',\n",
              " 'and',\n",
              " 'areas',\n",
              " 'where',\n",
              " 'crowds',\n",
              " 'of',\n",
              " 'people',\n",
              " 'congregate',\n",
              " 'such',\n",
              " 'as',\n",
              " 'sports',\n",
              " 'stadiums',\n",
              " 'and',\n",
              " 'convention',\n",
              " 'centers',\n",
              " '.',\n",
              " 'The',\n",
              " 'above',\n",
              " 'speeds',\n",
              " 'are',\n",
              " 'those',\n",
              " 'achieved',\n",
              " 'in',\n",
              " 'actual',\n",
              " 'tests',\n",
              " 'in',\n",
              " '2020',\n",
              " ',',\n",
              " 'and',\n",
              " 'speeds',\n",
              " 'are',\n",
              " 'expected',\n",
              " 'to',\n",
              " 'increase',\n",
              " 'during',\n",
              " 'rollout.[5',\n",
              " ']',\n",
              " 'The',\n",
              " 'spectrum',\n",
              " 'ranging',\n",
              " 'from',\n",
              " '24.25–29.5',\n",
              " 'GHz',\n",
              " 'has',\n",
              " 'been',\n",
              " 'the',\n",
              " 'most',\n",
              " 'licensed',\n",
              " 'and',\n",
              " 'deployed',\n",
              " '5',\n",
              " 'G',\n",
              " 'mmWave',\n",
              " 'spectrum',\n",
              " 'range',\n",
              " 'in',\n",
              " 'the',\n",
              " 'world.[citation',\n",
              " 'needed',\n",
              " ']',\n",
              " ' ',\n",
              " 'Rollout',\n",
              " 'of',\n",
              " '5',\n",
              " 'G',\n",
              " 'technology',\n",
              " 'has',\n",
              " 'led',\n",
              " 'to',\n",
              " 'debate',\n",
              " 'over',\n",
              " 'its',\n",
              " 'security',\n",
              " 'and',\n",
              " 'relationship',\n",
              " 'with',\n",
              " 'Chinese',\n",
              " 'vendors',\n",
              " '.',\n",
              " 'It',\n",
              " 'has',\n",
              " 'also',\n",
              " 'been',\n",
              " 'the',\n",
              " 'subject',\n",
              " 'of',\n",
              " 'health',\n",
              " 'concerns',\n",
              " 'and',\n",
              " 'misinformation',\n",
              " ',',\n",
              " 'including',\n",
              " 'discredited',\n",
              " 'conspiracy',\n",
              " 'theories',\n",
              " 'linking',\n",
              " 'it',\n",
              " 'to',\n",
              " 'the',\n",
              " 'COVID-19',\n",
              " 'pandemic',\n",
              " '.']"
            ]
          },
          "execution_count": 34,
          "metadata": {},
          "output_type": "execute_result"
        }
      ],
      "source": [
        "tokens"
      ]
    },
    {
      "cell_type": "markdown",
      "metadata": {
        "id": "1jUSVAhqFhVu"
      },
      "source": [
        "length of tokens"
      ]
    },
    {
      "cell_type": "code",
      "execution_count": null,
      "metadata": {
        "colab": {
          "base_uri": "https://localhost:8080/"
        },
        "id": "qhKCB_aNSVBg",
        "outputId": "cce7a267-291d-4b54-97ed-0bdd1347d0bc"
      },
      "outputs": [
        {
          "data": {
            "text/plain": [
              "661"
            ]
          },
          "execution_count": 35,
          "metadata": {},
          "output_type": "execute_result"
        }
      ],
      "source": [
        "len(tokens)"
      ]
    },
    {
      "cell_type": "markdown",
      "metadata": {
        "id": "s-XdbasZFk1Z"
      },
      "source": [
        "making dictionary of word frequencies with the name word_frequencies\n",
        " checking and counting  the words which their in doc file does not correspond to stopwords and punctuations  ,counting the frequency of word \n"
      ]
    },
    {
      "cell_type": "code",
      "execution_count": null,
      "metadata": {
        "id": "VvOm_HjsSYzH"
      },
      "outputs": [],
      "source": [
        "word_frequencies={}\n",
        "for word in doc :\n",
        "      if word.text.lower() not in stopwords:\n",
        "         if word.text.lower () not in punctuation: \n",
        "            if word.text not in word_frequencies.keys():\n",
        "              word_frequencies[word.text]=1\n",
        "            else:\n",
        "              word_frequencies[word.text] +=1"
      ]
    },
    {
      "cell_type": "markdown",
      "metadata": {
        "id": "soCzIaaXG-Xo"
      },
      "source": [
        "printing important word and their frequencies"
      ]
    },
    {
      "cell_type": "code",
      "execution_count": null,
      "metadata": {
        "colab": {
          "base_uri": "https://localhost:8080/"
        },
        "id": "sClxYNAxTqGj",
        "outputId": "4c3e2e9b-c325-4320-b6b2-73d742d7fe9b"
      },
      "outputs": [
        {
          "data": {
            "text/plain": [
              "{'5': 15,\n",
              " 'G': 18,\n",
              " 'networks': 6,\n",
              " 'cellular': 5,\n",
              " 'service': 4,\n",
              " 'area': 2,\n",
              " 'divided': 1,\n",
              " 'small': 2,\n",
              " 'geographical': 1,\n",
              " 'areas': 3,\n",
              " 'called': 2,\n",
              " 'cells': 3,\n",
              " 'wireless': 2,\n",
              " 'devices': 2,\n",
              " 'cell': 4,\n",
              " 'communicate': 1,\n",
              " 'radio': 2,\n",
              " 'waves': 6,\n",
              " 'base': 3,\n",
              " 'station': 2,\n",
              " 'fixed': 1,\n",
              " 'antennas': 3,\n",
              " 'frequency': 5,\n",
              " 'channels': 1,\n",
              " 'assigned': 1,\n",
              " 'stations': 1,\n",
              " 'termed': 1,\n",
              " 'nodes': 1,\n",
              " 'connected': 1,\n",
              " 'switching': 1,\n",
              " 'centers': 2,\n",
              " 'telephone': 1,\n",
              " 'network': 2,\n",
              " 'routers': 1,\n",
              " 'Internet': 1,\n",
              " 'access': 1,\n",
              " 'high': 3,\n",
              " 'bandwidth': 1,\n",
              " 'optical': 1,\n",
              " 'fiber': 1,\n",
              " 'backhaul': 1,\n",
              " 'connections': 1,\n",
              " 'mobile': 1,\n",
              " 'device': 1,\n",
              " 'moving': 1,\n",
              " 'automatically': 1,\n",
              " 'handed': 1,\n",
              " 'seamlessly': 1,\n",
              " 'expected': 2,\n",
              " 'support': 1,\n",
              " 'million': 1,\n",
              " 'square': 1,\n",
              " 'kilometer': 1,\n",
              " 'industry': 1,\n",
              " 'consortium': 1,\n",
              " 'setting': 1,\n",
              " 'standards': 1,\n",
              " '3rd': 1,\n",
              " 'Generation': 1,\n",
              " 'Partnership': 1,\n",
              " 'Project': 1,\n",
              " '3GPP': 1,\n",
              " 'defines': 1,\n",
              " 'system': 1,\n",
              " 'NR': 1,\n",
              " 'New': 1,\n",
              " 'Radio': 1,\n",
              " 'software': 1,\n",
              " 'definition': 1,\n",
              " 'came': 1,\n",
              " 'general': 1,\n",
              " 'use': 2,\n",
              " 'late': 1,\n",
              " '2018': 1,\n",
              " 'operators': 1,\n",
              " 'millimeter': 4,\n",
              " 'FR2': 1,\n",
              " 'terminology': 1,\n",
              " 'additional': 2,\n",
              " 'capacity': 1,\n",
              " 'higher': 5,\n",
              " 'throughputs': 1,\n",
              " 'Millimeter': 3,\n",
              " 'shorter': 1,\n",
              " 'range': 7,\n",
              " 'lower': 1,\n",
              " 'microwaves': 2,\n",
              " 'smaller': 2,\n",
              " 'size': 1,\n",
              " 'trouble': 1,\n",
              " 'passing': 1,\n",
              " 'building': 1,\n",
              " 'walls': 2,\n",
              " 'wave': 3,\n",
              " 'large': 1,\n",
              " 'previous': 2,\n",
              " 'centimeters': 1,\n",
              " 'long': 1,\n",
              " 'increased': 1,\n",
              " 'data': 1,\n",
              " 'rate': 1,\n",
              " 'achieved': 2,\n",
              " 'partly': 1,\n",
              " 'addition': 1,\n",
              " 'low-': 1,\n",
              " 'medium': 2,\n",
              " 'band': 11,\n",
              " 'frequencies': 3,\n",
              " 'providing': 2,\n",
              " 'wide': 1,\n",
              " 'services': 1,\n",
              " 'operate': 1,\n",
              " 'bands': 1,\n",
              " '–': 1,\n",
              " 'low': 3,\n",
              " 'implemented': 1,\n",
              " 'mid': 1,\n",
              " '24': 1,\n",
              " 'GHz': 5,\n",
              " '54': 1,\n",
              " 'Low': 2,\n",
              " 'uses': 3,\n",
              " 'similar': 2,\n",
              " '4': 3,\n",
              " 'cellphones': 1,\n",
              " '600–900': 1,\n",
              " 'MHz': 1,\n",
              " 'giving': 1,\n",
              " 'download': 2,\n",
              " 'speeds': 5,\n",
              " 'little': 1,\n",
              " '30–250': 1,\n",
              " 'megabits': 1,\n",
              " 'second': 2,\n",
              " 'Mbit': 2,\n",
              " 's).[5': 1,\n",
              " 'towers': 2,\n",
              " 'coverage': 1,\n",
              " 'Mid': 2,\n",
              " '1.7–4.7': 1,\n",
              " 'allowing': 1,\n",
              " '100–900': 1,\n",
              " 's': 2,\n",
              " 'tower': 1,\n",
              " 'kilometers': 1,\n",
              " 'radius': 1,\n",
              " 'level': 2,\n",
              " 'widely': 1,\n",
              " 'deployed': 3,\n",
              " 'metropolitan': 1,\n",
              " '2020': 2,\n",
              " 'regions': 1,\n",
              " 'implementing': 1,\n",
              " 'making': 1,\n",
              " 'minimum': 1,\n",
              " 'High': 1,\n",
              " '24–47': 1,\n",
              " 'near': 1,\n",
              " 'future': 1,\n",
              " 'achieves': 1,\n",
              " 'gigabit': 1,\n",
              " 'Gbit': 1,\n",
              " 'comparable': 1,\n",
              " 'cable': 1,\n",
              " 'internet': 1,\n",
              " 'mmWave': 2,\n",
              " 'mmW': 1,\n",
              " 'limited': 1,\n",
              " 'requiring': 1,\n",
              " 'cells.[6': 1,\n",
              " 'impeded': 1,\n",
              " 'blocked': 1,\n",
              " 'materials': 1,\n",
              " 'windows.[7': 1,\n",
              " 'cost': 1,\n",
              " 'plans': 1,\n",
              " 'deploy': 1,\n",
              " 'dense': 1,\n",
              " 'urban': 1,\n",
              " 'environments': 1,\n",
              " 'crowds': 1,\n",
              " 'people': 1,\n",
              " 'congregate': 1,\n",
              " 'sports': 1,\n",
              " 'stadiums': 1,\n",
              " 'convention': 1,\n",
              " 'actual': 1,\n",
              " 'tests': 1,\n",
              " 'increase': 1,\n",
              " 'rollout.[5': 1,\n",
              " 'spectrum': 2,\n",
              " 'ranging': 1,\n",
              " '24.25–29.5': 1,\n",
              " 'licensed': 1,\n",
              " 'world.[citation': 1,\n",
              " 'needed': 1,\n",
              " 'Rollout': 1,\n",
              " 'technology': 1,\n",
              " 'led': 1,\n",
              " 'debate': 1,\n",
              " 'security': 1,\n",
              " 'relationship': 1,\n",
              " 'Chinese': 1,\n",
              " 'vendors': 1,\n",
              " 'subject': 1,\n",
              " 'health': 1,\n",
              " 'concerns': 1,\n",
              " 'misinformation': 1,\n",
              " 'including': 1,\n",
              " 'discredited': 1,\n",
              " 'conspiracy': 1,\n",
              " 'theories': 1,\n",
              " 'linking': 1,\n",
              " 'COVID-19': 1,\n",
              " 'pandemic': 1}"
            ]
          },
          "execution_count": 47,
          "metadata": {},
          "output_type": "execute_result"
        }
      ],
      "source": [
        "word_frequencies"
      ]
    },
    {
      "cell_type": "markdown",
      "metadata": {
        "id": "1XSMQuAbHIRr"
      },
      "source": [
        "checking maximum frequencies for words\n",
        "and dividing every word with max-frequencies\n",
        "\n",
        "to get the relative frequency of words with word having maximum frequency"
      ]
    },
    {
      "cell_type": "code",
      "execution_count": null,
      "metadata": {
        "id": "eZwoCXixTvU1"
      },
      "outputs": [],
      "source": [
        "max_frequency=max(word_frequencies.values())\n",
        "for word in word_frequencies.keys():\n",
        "    word_frequencies[word]=word_frequencies[word]/max_frequency"
      ]
    },
    {
      "cell_type": "markdown",
      "metadata": {
        "id": "aJ_nEq1EHzm8"
      },
      "source": [
        "printing maximum frequency "
      ]
    },
    {
      "cell_type": "code",
      "execution_count": null,
      "metadata": {
        "colab": {
          "base_uri": "https://localhost:8080/"
        },
        "id": "43UMYH3LZdRm",
        "outputId": "18ddb7a4-d31d-467c-fde9-470c3349b816"
      },
      "outputs": [
        {
          "data": {
            "text/plain": [
              "18"
            ]
          },
          "execution_count": 49,
          "metadata": {},
          "output_type": "execute_result"
        }
      ],
      "source": [
        "max_frequency"
      ]
    },
    {
      "cell_type": "markdown",
      "metadata": {
        "id": "EFVhUzZ1H5Jz"
      },
      "source": [
        "relative word frequency"
      ]
    },
    {
      "cell_type": "code",
      "execution_count": null,
      "metadata": {
        "colab": {
          "base_uri": "https://localhost:8080/"
        },
        "id": "3r2iZfq5bBcc",
        "outputId": "6faad00a-a0c2-4832-911e-b318afdcd7f8"
      },
      "outputs": [
        {
          "data": {
            "text/plain": [
              "{'5': 0.8333333333333334,\n",
              " 'G': 1.0,\n",
              " 'networks': 0.3333333333333333,\n",
              " 'cellular': 0.2777777777777778,\n",
              " 'service': 0.2222222222222222,\n",
              " 'area': 0.1111111111111111,\n",
              " 'divided': 0.05555555555555555,\n",
              " 'small': 0.1111111111111111,\n",
              " 'geographical': 0.05555555555555555,\n",
              " 'areas': 0.16666666666666666,\n",
              " 'called': 0.1111111111111111,\n",
              " 'cells': 0.16666666666666666,\n",
              " 'wireless': 0.1111111111111111,\n",
              " 'devices': 0.1111111111111111,\n",
              " 'cell': 0.2222222222222222,\n",
              " 'communicate': 0.05555555555555555,\n",
              " 'radio': 0.1111111111111111,\n",
              " 'waves': 0.3333333333333333,\n",
              " 'base': 0.16666666666666666,\n",
              " 'station': 0.1111111111111111,\n",
              " 'fixed': 0.05555555555555555,\n",
              " 'antennas': 0.16666666666666666,\n",
              " 'frequency': 0.2777777777777778,\n",
              " 'channels': 0.05555555555555555,\n",
              " 'assigned': 0.05555555555555555,\n",
              " 'stations': 0.05555555555555555,\n",
              " 'termed': 0.05555555555555555,\n",
              " 'nodes': 0.05555555555555555,\n",
              " 'connected': 0.05555555555555555,\n",
              " 'switching': 0.05555555555555555,\n",
              " 'centers': 0.1111111111111111,\n",
              " 'telephone': 0.05555555555555555,\n",
              " 'network': 0.1111111111111111,\n",
              " 'routers': 0.05555555555555555,\n",
              " 'Internet': 0.05555555555555555,\n",
              " 'access': 0.05555555555555555,\n",
              " 'high': 0.16666666666666666,\n",
              " 'bandwidth': 0.05555555555555555,\n",
              " 'optical': 0.05555555555555555,\n",
              " 'fiber': 0.05555555555555555,\n",
              " 'backhaul': 0.05555555555555555,\n",
              " 'connections': 0.05555555555555555,\n",
              " 'mobile': 0.05555555555555555,\n",
              " 'device': 0.05555555555555555,\n",
              " 'moving': 0.05555555555555555,\n",
              " 'automatically': 0.05555555555555555,\n",
              " 'handed': 0.05555555555555555,\n",
              " 'seamlessly': 0.05555555555555555,\n",
              " 'expected': 0.1111111111111111,\n",
              " 'support': 0.05555555555555555,\n",
              " 'million': 0.05555555555555555,\n",
              " 'square': 0.05555555555555555,\n",
              " 'kilometer': 0.05555555555555555,\n",
              " 'industry': 0.05555555555555555,\n",
              " 'consortium': 0.05555555555555555,\n",
              " 'setting': 0.05555555555555555,\n",
              " 'standards': 0.05555555555555555,\n",
              " '3rd': 0.05555555555555555,\n",
              " 'Generation': 0.05555555555555555,\n",
              " 'Partnership': 0.05555555555555555,\n",
              " 'Project': 0.05555555555555555,\n",
              " '3GPP': 0.05555555555555555,\n",
              " 'defines': 0.05555555555555555,\n",
              " 'system': 0.05555555555555555,\n",
              " 'NR': 0.05555555555555555,\n",
              " 'New': 0.05555555555555555,\n",
              " 'Radio': 0.05555555555555555,\n",
              " 'software': 0.05555555555555555,\n",
              " 'definition': 0.05555555555555555,\n",
              " 'came': 0.05555555555555555,\n",
              " 'general': 0.05555555555555555,\n",
              " 'use': 0.1111111111111111,\n",
              " 'late': 0.05555555555555555,\n",
              " '2018': 0.05555555555555555,\n",
              " 'operators': 0.05555555555555555,\n",
              " 'millimeter': 0.2222222222222222,\n",
              " 'FR2': 0.05555555555555555,\n",
              " 'terminology': 0.05555555555555555,\n",
              " 'additional': 0.1111111111111111,\n",
              " 'capacity': 0.05555555555555555,\n",
              " 'higher': 0.2777777777777778,\n",
              " 'throughputs': 0.05555555555555555,\n",
              " 'Millimeter': 0.16666666666666666,\n",
              " 'shorter': 0.05555555555555555,\n",
              " 'range': 0.3888888888888889,\n",
              " 'lower': 0.05555555555555555,\n",
              " 'microwaves': 0.1111111111111111,\n",
              " 'smaller': 0.1111111111111111,\n",
              " 'size': 0.05555555555555555,\n",
              " 'trouble': 0.05555555555555555,\n",
              " 'passing': 0.05555555555555555,\n",
              " 'building': 0.05555555555555555,\n",
              " 'walls': 0.1111111111111111,\n",
              " 'wave': 0.16666666666666666,\n",
              " 'large': 0.05555555555555555,\n",
              " 'previous': 0.1111111111111111,\n",
              " 'centimeters': 0.05555555555555555,\n",
              " 'long': 0.05555555555555555,\n",
              " 'increased': 0.05555555555555555,\n",
              " 'data': 0.05555555555555555,\n",
              " 'rate': 0.05555555555555555,\n",
              " 'achieved': 0.1111111111111111,\n",
              " 'partly': 0.05555555555555555,\n",
              " 'addition': 0.05555555555555555,\n",
              " 'low-': 0.05555555555555555,\n",
              " 'medium': 0.1111111111111111,\n",
              " 'band': 0.6111111111111112,\n",
              " 'frequencies': 0.16666666666666666,\n",
              " 'providing': 0.1111111111111111,\n",
              " 'wide': 0.05555555555555555,\n",
              " 'services': 0.05555555555555555,\n",
              " 'operate': 0.05555555555555555,\n",
              " 'bands': 0.05555555555555555,\n",
              " '–': 0.05555555555555555,\n",
              " 'low': 0.16666666666666666,\n",
              " 'implemented': 0.05555555555555555,\n",
              " 'mid': 0.05555555555555555,\n",
              " '24': 0.05555555555555555,\n",
              " 'GHz': 0.2777777777777778,\n",
              " '54': 0.05555555555555555,\n",
              " 'Low': 0.1111111111111111,\n",
              " 'uses': 0.16666666666666666,\n",
              " 'similar': 0.1111111111111111,\n",
              " '4': 0.16666666666666666,\n",
              " 'cellphones': 0.05555555555555555,\n",
              " '600–900': 0.05555555555555555,\n",
              " 'MHz': 0.05555555555555555,\n",
              " 'giving': 0.05555555555555555,\n",
              " 'download': 0.1111111111111111,\n",
              " 'speeds': 0.2777777777777778,\n",
              " 'little': 0.05555555555555555,\n",
              " '30–250': 0.05555555555555555,\n",
              " 'megabits': 0.05555555555555555,\n",
              " 'second': 0.1111111111111111,\n",
              " 'Mbit': 0.1111111111111111,\n",
              " 's).[5': 0.05555555555555555,\n",
              " 'towers': 0.1111111111111111,\n",
              " 'coverage': 0.05555555555555555,\n",
              " 'Mid': 0.1111111111111111,\n",
              " '1.7–4.7': 0.05555555555555555,\n",
              " 'allowing': 0.05555555555555555,\n",
              " '100–900': 0.05555555555555555,\n",
              " 's': 0.1111111111111111,\n",
              " 'tower': 0.05555555555555555,\n",
              " 'kilometers': 0.05555555555555555,\n",
              " 'radius': 0.05555555555555555,\n",
              " 'level': 0.1111111111111111,\n",
              " 'widely': 0.05555555555555555,\n",
              " 'deployed': 0.16666666666666666,\n",
              " 'metropolitan': 0.05555555555555555,\n",
              " '2020': 0.1111111111111111,\n",
              " 'regions': 0.05555555555555555,\n",
              " 'implementing': 0.05555555555555555,\n",
              " 'making': 0.05555555555555555,\n",
              " 'minimum': 0.05555555555555555,\n",
              " 'High': 0.05555555555555555,\n",
              " '24–47': 0.05555555555555555,\n",
              " 'near': 0.05555555555555555,\n",
              " 'future': 0.05555555555555555,\n",
              " 'achieves': 0.05555555555555555,\n",
              " 'gigabit': 0.05555555555555555,\n",
              " 'Gbit': 0.05555555555555555,\n",
              " 'comparable': 0.05555555555555555,\n",
              " 'cable': 0.05555555555555555,\n",
              " 'internet': 0.05555555555555555,\n",
              " 'mmWave': 0.1111111111111111,\n",
              " 'mmW': 0.05555555555555555,\n",
              " 'limited': 0.05555555555555555,\n",
              " 'requiring': 0.05555555555555555,\n",
              " 'cells.[6': 0.05555555555555555,\n",
              " 'impeded': 0.05555555555555555,\n",
              " 'blocked': 0.05555555555555555,\n",
              " 'materials': 0.05555555555555555,\n",
              " 'windows.[7': 0.05555555555555555,\n",
              " 'cost': 0.05555555555555555,\n",
              " 'plans': 0.05555555555555555,\n",
              " 'deploy': 0.05555555555555555,\n",
              " 'dense': 0.05555555555555555,\n",
              " 'urban': 0.05555555555555555,\n",
              " 'environments': 0.05555555555555555,\n",
              " 'crowds': 0.05555555555555555,\n",
              " 'people': 0.05555555555555555,\n",
              " 'congregate': 0.05555555555555555,\n",
              " 'sports': 0.05555555555555555,\n",
              " 'stadiums': 0.05555555555555555,\n",
              " 'convention': 0.05555555555555555,\n",
              " 'actual': 0.05555555555555555,\n",
              " 'tests': 0.05555555555555555,\n",
              " 'increase': 0.05555555555555555,\n",
              " 'rollout.[5': 0.05555555555555555,\n",
              " 'spectrum': 0.1111111111111111,\n",
              " 'ranging': 0.05555555555555555,\n",
              " '24.25–29.5': 0.05555555555555555,\n",
              " 'licensed': 0.05555555555555555,\n",
              " 'world.[citation': 0.05555555555555555,\n",
              " 'needed': 0.05555555555555555,\n",
              " 'Rollout': 0.05555555555555555,\n",
              " 'technology': 0.05555555555555555,\n",
              " 'led': 0.05555555555555555,\n",
              " 'debate': 0.05555555555555555,\n",
              " 'security': 0.05555555555555555,\n",
              " 'relationship': 0.05555555555555555,\n",
              " 'Chinese': 0.05555555555555555,\n",
              " 'vendors': 0.05555555555555555,\n",
              " 'subject': 0.05555555555555555,\n",
              " 'health': 0.05555555555555555,\n",
              " 'concerns': 0.05555555555555555,\n",
              " 'misinformation': 0.05555555555555555,\n",
              " 'including': 0.05555555555555555,\n",
              " 'discredited': 0.05555555555555555,\n",
              " 'conspiracy': 0.05555555555555555,\n",
              " 'theories': 0.05555555555555555,\n",
              " 'linking': 0.05555555555555555,\n",
              " 'COVID-19': 0.05555555555555555,\n",
              " 'pandemic': 0.05555555555555555}"
            ]
          },
          "execution_count": 51,
          "metadata": {},
          "output_type": "execute_result"
        }
      ],
      "source": [
        "word_frequencies"
      ]
    },
    {
      "cell_type": "markdown",
      "metadata": {
        "id": "4ri1JMBbH_o_"
      },
      "source": [
        "tokenizing the sentence present  in doc "
      ]
    },
    {
      "cell_type": "code",
      "execution_count": null,
      "metadata": {
        "id": "nXwzmxTFbGQD"
      },
      "outputs": [],
      "source": [
        "sentence_tokens=[sent for sent in doc.sents]"
      ]
    },
    {
      "cell_type": "markdown",
      "metadata": {
        "id": "i2fS7lh3IOLV"
      },
      "source": [
        "printing sentence tokens"
      ]
    },
    {
      "cell_type": "code",
      "execution_count": null,
      "metadata": {
        "colab": {
          "base_uri": "https://localhost:8080/"
        },
        "id": "r8Q03EtObY-g",
        "outputId": "28ac9688-172c-4b2a-fc60-f001b47eebb1"
      },
      "outputs": [
        {
          "data": {
            "text/plain": [
              "[5G networks are cellular networks, in which the service area is divided into small geographical areas called cells.,\n",
              " All 5G wireless devices in a cell communicate by radio waves with a cellular base station via fixed antennas, over frequency channels assigned by the base station.,\n",
              " The base stations, termed nodes, are connected to switching centers in the telephone network and routers for Internet access by high-bandwidth optical fiber or wireless backhaul connections.,\n",
              " As in other cellular networks, a mobile device moving from one cell to another is automatically handed off seamlessly.,\n",
              " 5G is expected to support up to a million devices per square kilometer.  ,\n",
              " The industry consortium setting standards for 5G, the 3rd Generation Partnership Project (3GPP), defines \"5G\" as any system using 5G NR (5G New Radio) software - a definition that came into general use by late 2018.  ,\n",
              " Several network operators use millimeter waves called FR2 in 5G terminology, for additional capacity and higher throughputs.,\n",
              " Millimeter waves have a shorter range than the lower frequency microwaves, therefore the cells are of a smaller size.,\n",
              " Millimeter waves also have more trouble passing through building walls.,\n",
              " Millimeter-wave antennas are smaller than the large antennas used in previous cellular networks.,\n",
              " Some are only a few centimeters long.  ,\n",
              " The increased data rate is achieved partly by using additional higher-frequency radio waves in addition to the low- and medium-band frequencies used in previous cellular networks.,\n",
              " For providing a wide range of services, 5G networks can operate in three frequency bands – : low, medium, and high.  ,\n",
              " 5G can be implemented in low-band, mid-band or high-band millimeter-wave 24 GHz up to 54 GHz.,\n",
              " Low-band 5G uses a similar frequency range to 4G cellphones, 600–900 MHz, giving download speeds a little higher than 4G: 30–250 megabits per second (Mbit/s).[5],\n",
              " Low-band cell towers have a range and coverage area similar to 4G towers.,\n",
              " Mid-band 5G uses microwaves of 1.7–4.7 GHz, allowing speeds of 100–900 Mbit/s, with each cell tower providing service up to several kilometers in radius.,\n",
              " This level of service is the most widely deployed, and was deployed in many metropolitan areas in 2020.,\n",
              " Some regions are not implementing the low band, making Mid-band the minimum service level.,\n",
              " High-band 5G uses frequencies of 24–47 GHz, near the bottom of the millimeter wave band, although higher frequencies may be used in the future.,\n",
              " It often achieves download speeds in the gigabit-per-second (Gbit/s) range, comparable to cable internet.,\n",
              " However, millimeter waves (mmWave or mmW) have a more limited range, requiring many small cells.[6] They can be impeded or blocked by materials in walls or windows.[7] Due to their higher cost, plans are to deploy these cells only in dense urban environments and areas where crowds of people congregate such as sports stadiums and convention centers.,\n",
              " The above speeds are those achieved in actual tests in 2020, and speeds are expected to increase during rollout.[5],\n",
              " The spectrum ranging from 24.25–29.5 GHz has been the most licensed and deployed 5G mmWave spectrum range in the world.[citation needed]  Rollout of 5G technology has led to debate over its security and relationship with Chinese vendors.,\n",
              " It has also been the subject of health concerns and misinformation, including discredited conspiracy theories linking it to the COVID-19 pandemic.]"
            ]
          },
          "execution_count": 53,
          "metadata": {},
          "output_type": "execute_result"
        }
      ],
      "source": [
        "sentence_tokens"
      ]
    },
    {
      "cell_type": "markdown",
      "metadata": {
        "id": "W4RRz_-oIStS"
      },
      "source": [
        "checking sentence_tokens and removing sentence_tokens  which are having the stopwords.\n",
        "\n",
        "and listing the remaining sentence_tokens and appending it with repect to word_frequencies"
      ]
    },
    {
      "cell_type": "markdown",
      "metadata": {
        "id": "PlDHGIewI94O"
      },
      "source": [
        "put word_scores += word_frequencies"
      ]
    },
    {
      "cell_type": "code",
      "execution_count": null,
      "metadata": {
        "id": "XH4UifHebdnX"
      },
      "outputs": [],
      "source": [
        "sentences_scores={}\n",
        "for sent in sentence_tokens:\n",
        "  for word in sent :\n",
        "    if word.text.lower()in word_frequencies.keys():\n",
        "      if sent not in sentences_scores.keys():\n",
        "        sentences_scores[sent]=word_frequencies[word.text.lower()]\n",
        "      else:\n",
        "        sentences_scores[sent]+=word_frequencies[word.text.lower()]"
      ]
    },
    {
      "cell_type": "code",
      "execution_count": null,
      "metadata": {
        "colab": {
          "base_uri": "https://localhost:8080/"
        },
        "id": "QE5WD3l5cf8a",
        "outputId": "2096bf73-9855-46b6-d8e2-320f6b2bbba8"
      },
      "outputs": [
        {
          "data": {
            "text/plain": [
              "{5G networks are cellular networks, in which the service area is divided into small geographical areas called cells.: 2.7777777777777772,\n",
              " All 5G wireless devices in a cell communicate by radio waves with a cellular base station via fixed antennas, over frequency channels assigned by the base station.: 3.222222222222221,\n",
              " The base stations, termed nodes, are connected to switching centers in the telephone network and routers for Internet access by high-bandwidth optical fiber or wireless backhaul connections.: 1.4444444444444449,\n",
              " As in other cellular networks, a mobile device moving from one cell to another is automatically handed off seamlessly.: 1.1666666666666667,\n",
              " 5G is expected to support up to a million devices per square kilometer.  : 1.277777777777778,\n",
              " The industry consortium setting standards for 5G, the 3rd Generation Partnership Project (3GPP), defines \"5G\" as any system using 5G NR (5G New Radio) software - a definition that came into general use by late 2018.  : 4.277777777777777,\n",
              " Several network operators use millimeter waves called FR2 in 5G terminology, for additional capacity and higher throughputs.: 2.333333333333333,\n",
              " Millimeter waves have a shorter range than the lower frequency microwaves, therefore the cells are of a smaller size.: 1.7777777777777781,\n",
              " Millimeter waves also have more trouble passing through building walls.: 0.8333333333333335,\n",
              " Millimeter-wave antennas are smaller than the large antennas used in previous cellular networks.: 1.611111111111111,\n",
              " Some are only a few centimeters long.  : 0.1111111111111111,\n",
              " The increased data rate is achieved partly by using additional higher-frequency radio waves in addition to the low- and medium-band frequencies used in previous cellular networks.: 3.1666666666666665,\n",
              " For providing a wide range of services, 5G networks can operate in three frequency bands – : low, medium, and high.  : 2.666666666666666,\n",
              " 5G can be implemented in low-band, mid-band or high-band millimeter-wave 24 GHz up to 54 GHz.: 3.6111111111111107,\n",
              " Low-band 5G uses a similar frequency range to 4G cellphones, 600–900 MHz, giving download speeds a little higher than 4G: 30–250 megabits per second (Mbit/s).[5]: 4.0555555555555545,\n",
              " Low-band cell towers have a range and coverage area similar to 4G towers.: 2.055555555555556,\n",
              " Mid-band 5G uses microwaves of 1.7–4.7 GHz, allowing speeds of 100–900 Mbit/s, with each cell tower providing service up to several kilometers in radius.: 3.0555555555555554,\n",
              " This level of service is the most widely deployed, and was deployed in many metropolitan areas in 2020.: 1.0555555555555554,\n",
              " Some regions are not implementing the low band, making Mid-band the minimum service level.: 2.0,\n",
              " High-band 5G uses frequencies of 24–47 GHz, near the bottom of the millimeter wave band, although higher frequencies may be used in the future.: 3.555555555555555,\n",
              " It often achieves download speeds in the gigabit-per-second (Gbit/s) range, comparable to cable internet.: 1.277777777777778,\n",
              " However, millimeter waves (mmWave or mmW) have a more limited range, requiring many small cells.[6] They can be impeded or blocked by materials in walls or windows.[7] Due to their higher cost, plans are to deploy these cells only in dense urban environments and areas where crowds of people congregate such as sports stadiums and convention centers.: 2.9444444444444424,\n",
              " The above speeds are those achieved in actual tests in 2020, and speeds are expected to increase during rollout.[5]: 1.1111111111111112,\n",
              " The spectrum ranging from 24.25–29.5 GHz has been the most licensed and deployed 5G mmWave spectrum range in the world.[citation needed]  Rollout of 5G technology has led to debate over its security and relationship with Chinese vendors.: 3.0555555555555545,\n",
              " It has also been the subject of health concerns and misinformation, including discredited conspiracy theories linking it to the COVID-19 pandemic.: 0.5555555555555557}"
            ]
          },
          "execution_count": 55,
          "metadata": {},
          "output_type": "execute_result"
        }
      ],
      "source": [
        "sentences_scores"
      ]
    },
    {
      "cell_type": "markdown",
      "metadata": {
        "id": "K0T2enrVKn83"
      },
      "source": [
        "setting  the limit of 30%  of entire word file"
      ]
    },
    {
      "cell_type": "code",
      "execution_count": null,
      "metadata": {
        "id": "6BEiQ1jvcqxz"
      },
      "outputs": [],
      "source": [
        "from heapq import nlargest\n",
        "select_length=int(len(sentence_tokens)*0.3)"
      ]
    },
    {
      "cell_type": "code",
      "execution_count": null,
      "metadata": {
        "colab": {
          "base_uri": "https://localhost:8080/"
        },
        "id": "6TUFBZZDct1t",
        "outputId": "c213803a-7aad-4c7f-9aa4-b26da625efde"
      },
      "outputs": [
        {
          "data": {
            "text/plain": [
              "7"
            ]
          },
          "execution_count": 58,
          "metadata": {},
          "output_type": "execute_result"
        }
      ],
      "source": [
        "select_length"
      ]
    },
    {
      "cell_type": "code",
      "execution_count": null,
      "metadata": {
        "id": "7BunVT92c5kC"
      },
      "outputs": [],
      "source": [
        "summary=nlargest(select_length, sentences_scores,key=sentences_scores.get)"
      ]
    },
    {
      "cell_type": "code",
      "execution_count": null,
      "metadata": {
        "colab": {
          "base_uri": "https://localhost:8080/"
        },
        "id": "yOpM8drteeDA",
        "outputId": "c1a1b88b-bcbc-43b8-aac9-b4c7455ca5c5"
      },
      "outputs": [
        {
          "data": {
            "text/plain": [
              "[The industry consortium setting standards for 5G, the 3rd Generation Partnership Project (3GPP), defines \"5G\" as any system using 5G NR (5G New Radio) software - a definition that came into general use by late 2018.  ,\n",
              " Low-band 5G uses a similar frequency range to 4G cellphones, 600–900 MHz, giving download speeds a little higher than 4G: 30–250 megabits per second (Mbit/s).[5],\n",
              " 5G can be implemented in low-band, mid-band or high-band millimeter-wave 24 GHz up to 54 GHz.,\n",
              " High-band 5G uses frequencies of 24–47 GHz, near the bottom of the millimeter wave band, although higher frequencies may be used in the future.,\n",
              " All 5G wireless devices in a cell communicate by radio waves with a cellular base station via fixed antennas, over frequency channels assigned by the base station.,\n",
              " The increased data rate is achieved partly by using additional higher-frequency radio waves in addition to the low- and medium-band frequencies used in previous cellular networks.,\n",
              " Mid-band 5G uses microwaves of 1.7–4.7 GHz, allowing speeds of 100–900 Mbit/s, with each cell tower providing service up to several kilometers in radius.]"
            ]
          },
          "execution_count": 62,
          "metadata": {},
          "output_type": "execute_result"
        }
      ],
      "source": [
        "summary"
      ]
    },
    {
      "cell_type": "code",
      "execution_count": null,
      "metadata": {
        "colab": {
          "base_uri": "https://localhost:8080/",
          "height": 253
        },
        "id": "5tg1x-ILejyD",
        "outputId": "9490d9da-b223-4a2f-b3f9-e75e0eb856fb"
      },
      "outputs": [
        {
          "data": {
            "application/vnd.google.colaboratory.intrinsic+json": {
              "type": "string"
            },
            "text/plain": [
              "'The industry consortium setting standards for 5G, the 3rd Generation Partnership Project (3GPP), defines \"5G\" as any system using 5G NR (5G New Radio) software - a definition that came into general use by late 2018.  Low-band 5G uses a similar frequency range to 4G cellphones, 600–900 MHz, giving download speeds a little higher than 4G: 30–250 megabits per second (Mbit/s).[5]5G can be implemented in low-band, mid-band or high-band millimeter-wave 24 GHz up to 54 GHz.High-band 5G uses frequencies of 24–47 GHz, near the bottom of the millimeter wave band, although higher frequencies may be used in the future.All 5G wireless devices in a cell communicate by radio waves with a cellular base station via fixed antennas, over frequency channels assigned by the base station.The increased data rate is achieved partly by using additional higher-frequency radio waves in addition to the low- and medium-band frequencies used in previous cellular networks.Mid-band 5G uses microwaves of 1.7–4.7 GHz, allowing speeds of 100–900 Mbit/s, with each cell tower providing service up to several kilometers in radius.'"
            ]
          },
          "execution_count": 63,
          "metadata": {},
          "output_type": "execute_result"
        }
      ],
      "source": [
        "final_summary=[word.text for word in summary]\n",
        "final_summary\n",
        "summary=''.join(final_summary)\n",
        "summary"
      ]
    },
    {
      "cell_type": "code",
      "execution_count": null,
      "metadata": {
        "colab": {
          "base_uri": "https://localhost:8080/",
          "height": 253
        },
        "id": "BausauCUeuJh",
        "outputId": "ca90e92f-1fc0-4e7c-beea-85fd0376ee44"
      },
      "outputs": [
        {
          "data": {
            "application/vnd.google.colaboratory.intrinsic+json": {
              "type": "string"
            },
            "text/plain": [
              "'The industry consortium setting standards for 5G, the 3rd Generation Partnership Project (3GPP), defines \"5G\" as any system using 5G NR (5G New Radio) software - a definition that came into general use by late 2018.  Low-band 5G uses a similar frequency range to 4G cellphones, 600–900 MHz, giving download speeds a little higher than 4G: 30–250 megabits per second (Mbit/s).[5]5G can be implemented in low-band, mid-band or high-band millimeter-wave 24 GHz up to 54 GHz.High-band 5G uses frequencies of 24–47 GHz, near the bottom of the millimeter wave band, although higher frequencies may be used in the future.All 5G wireless devices in a cell communicate by radio waves with a cellular base station via fixed antennas, over frequency channels assigned by the base station.The increased data rate is achieved partly by using additional higher-frequency radio waves in addition to the low- and medium-band frequencies used in previous cellular networks.Mid-band 5G uses microwaves of 1.7–4.7 GHz, allowing speeds of 100–900 Mbit/s, with each cell tower providing service up to several kilometers in radius.'"
            ]
          },
          "execution_count": 64,
          "metadata": {},
          "output_type": "execute_result"
        }
      ],
      "source": [
        "summary"
      ]
    },
    {
      "cell_type": "code",
      "execution_count": null,
      "metadata": {
        "colab": {
          "base_uri": "https://localhost:8080/"
        },
        "id": "OspIGKvFe0fI",
        "outputId": "ae1c2c27-8d5a-4eb8-d9c2-98ad490c826f"
      },
      "outputs": [
        {
          "data": {
            "text/plain": [
              "1109"
            ]
          },
          "execution_count": 65,
          "metadata": {},
          "output_type": "execute_result"
        }
      ],
      "source": [
        "len(summary)"
      ]
    },
    {
      "cell_type": "code",
      "execution_count": null,
      "metadata": {
        "colab": {
          "base_uri": "https://localhost:8080/"
        },
        "id": "5ObqE_Pje6PQ",
        "outputId": "cf21bac1-743c-47ca-d39d-174361dcf436"
      },
      "outputs": [
        {
          "data": {
            "text/plain": [
              "3408"
            ]
          },
          "execution_count": 66,
          "metadata": {},
          "output_type": "execute_result"
        }
      ],
      "source": [
        "len(text)"
      ]
    },
    {
      "cell_type": "markdown",
      "metadata": {
        "id": "yZf1-UMUoIYf"
      },
      "source": [
        "joining all block of codes in one block \n",
        "for one click operation "
      ]
    },
    {
      "cell_type": "code",
      "execution_count": 1,
      "metadata": {
        "colab": {
          "base_uri": "https://localhost:8080/"
        },
        "id": "Y8zB48X-piwU",
        "outputId": "240a2c0f-5e92-4c27-8eb6-ee2c20d075df"
      },
      "outputs": [
        {
          "ename": "ModuleNotFoundError",
          "evalue": "No module named 'spacy'",
          "output_type": "error",
          "traceback": [
            "\u001b[1;31m---------------------------------------------------------------------------\u001b[0m",
            "\u001b[1;31mModuleNotFoundError\u001b[0m                       Traceback (most recent call last)",
            "\u001b[1;32md:\\Users\\amityadav\\Downloads\\Untitled1.ipynb Cell 60\u001b[0m in \u001b[0;36m<cell line: 1>\u001b[1;34m()\u001b[0m\n\u001b[1;32m----> <a href='vscode-notebook-cell:/d%3A/Users/amityadav/Downloads/Untitled1.ipynb#Y113sZmlsZQ%3D%3D?line=0'>1</a>\u001b[0m \u001b[39mimport\u001b[39;00m \u001b[39mspacy\u001b[39;00m\n\u001b[0;32m      <a href='vscode-notebook-cell:/d%3A/Users/amityadav/Downloads/Untitled1.ipynb#Y113sZmlsZQ%3D%3D?line=1'>2</a>\u001b[0m text\u001b[39m=\u001b[39m\u001b[39minput\u001b[39m(\u001b[39m\"\u001b[39m\u001b[39m Copy the text file  which you want to summarise \u001b[39m\u001b[39m\\n\u001b[39;00m\u001b[39m \u001b[39m\u001b[39m\"\u001b[39m)\n\u001b[0;32m      <a href='vscode-notebook-cell:/d%3A/Users/amityadav/Downloads/Untitled1.ipynb#Y113sZmlsZQ%3D%3D?line=2'>3</a>\u001b[0m \u001b[39mprint\u001b[39m(\u001b[39m\"\u001b[39m\u001b[39mThe length of pasted  text \u001b[39m\u001b[39m\\n\u001b[39;00m\u001b[39m\"\u001b[39m, \u001b[39mlen\u001b[39m(text))\n",
            "\u001b[1;31mModuleNotFoundError\u001b[0m: No module named 'spacy'"
          ]
        }
      ],
      "source": [
        "import spacy\n",
        "text=input(\" Copy the text file  which you want to summarise \\n \")\n",
        "print(\"The length of pasted  text \\n\", len(text))\n",
        "from spacy.lang.en.stop_words import STOP_WORDS\n",
        "from string import punctuation\n",
        "from collections import Counter\n",
        "from heapq import nlargest\n",
        "stopwords=list(STOP_WORDS)\n",
        "punctuation=punctuation+ ' \\n'\n",
        "print(\"The list of stopwords in the text file \\n \", stopwords)\n",
        "print(\"the length of stopwords\\n\",len(stopwords))\n",
        "print(\"the list of punctuation\\n\",punctuation)\n",
        "nlp=spacy.load('en_core_web_sm')\n",
        "doc=nlp(text)\n",
        "tokens=[token.text for token in doc]\n",
        "print(\"list the  important words as tokens\\n\",tokens)\n",
        "print(\"the  length of tokens\\n\",len(tokens))\n",
        "word_frequencies={}\n",
        "for word in doc :\n",
        "      if word.text.lower() not in stopwords:\n",
        "         if word.text.lower () not in punctuation: \n",
        "            if word.text not in word_frequencies.keys():\n",
        "              word_frequencies[word.text]=1\n",
        "            else:\n",
        "              word_frequencies[word.text] +=1\n",
        "\n",
        "print(\" the listing the  frequencies of words\\n \",word_frequencies)\n",
        "max_frequency=max(word_frequencies.values())\n",
        "for word in word_frequencies.keys():\n",
        "    word_frequencies[word]=word_frequencies[word]/max_frequency\n",
        "print(\"listing the maximum frequency\\n\",max_frequency)\n",
        "print(\"listing the relative frequencies of word with respect maximum frequency\\n\",word_frequencies)\n",
        "sentence_tokens=[sent for sent in doc.sents]\n",
        "print(\"listing sentence  in word file as sentence tokens\\n\",sentence_tokens)\n",
        "sentences_scores={}\n",
        "for sent in sentence_tokens:\n",
        "  for word in sent :\n",
        "    if word.text.lower()in word_frequencies.keys():\n",
        "      if sent not in sentences_scores.keys():\n",
        "        sentences_scores[sent]=word_frequencies[word.text.lower()]\n",
        "      else:\n",
        "        sentences_scores[sent]+=word_frequencies[word.text.lower()]\n",
        "\n",
        "print(\"printing scores of sentence which does not include stopwords and punctuation\\n\", sentences_scores)\n",
        "from heapq import nlargest\n",
        "select_length=int(len(sentence_tokens)*0.3)\n",
        "print(\"selected length from text file\\n\",select_length)\n",
        "summary=nlargest(select_length, sentences_scores,key=sentences_scores.get)\n",
        "print(\" summary\\n\",summary)\n",
        "final_summary=[word.text for word in summary]\n",
        "print(\"the final summary \\n\",final_summary)\n",
        "summary=''.join(final_summary)\n",
        "print(\"printing summary after creating the string \\n\",summary)\n",
        "print(\" the length of summary \\n\",len(summary))\n",
        "print(\"the length of entered text\\n \",len(text))\n"
      ]
    }
  ],
  "metadata": {
    "colab": {
      "provenance": []
    },
    "kernelspec": {
      "display_name": "Python 3.9.12 ('base')",
      "language": "python",
      "name": "python3"
    },
    "language_info": {
      "name": "python",
      "version": "3.9.12"
    },
    "vscode": {
      "interpreter": {
        "hash": "7135cc2b67284cd4f10675f73c89586fff232dd07f1fb4e4ebe934c4b1ee7f87"
      }
    }
  },
  "nbformat": 4,
  "nbformat_minor": 0
}
